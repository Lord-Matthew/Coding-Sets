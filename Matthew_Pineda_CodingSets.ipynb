{
  "nbformat": 4,
  "nbformat_minor": 0,
  "metadata": {
    "colab": {
      "name": "Matthew Pineda CodingSets.ipynb",
      "provenance": []
    },
    "kernelspec": {
      "name": "python3",
      "display_name": "Python 3"
    }
  },
  "cells": [
    {
      "cell_type": "code",
      "metadata": {
        "id": "OlPSRyNxBXMk"
      },
      "source": [
        "sports_anime = [\"Haikyuuu\",\"Ahiru no Sora\",\"Keppeki Danshi! Aoyama-kun\",\"Slam Dunk\",\"Free!\",\"Hanebado!\",\"Eye Shield 21\",\"Kurokos Basketball\",\"Major 2\",\"Sword Art Online\"]\n",
        "romance_anime = [\"Major 2\",\"Sword Art Online\",\"Ahiru no Sora\",\"Keppeki Danshi! Aoyama-kun\",\"Guilty Crown\",\"Eden of the East\",\"The Rising of the Shield Hero\"]"
      ],
      "execution_count": null,
      "outputs": []
    },
    {
      "cell_type": "code",
      "metadata": {
        "id": "W1UxMwFfBkVr"
      },
      "source": [
        "sports = set(sports_anime)\n",
        "romance = set(romance_anime)"
      ],
      "execution_count": null,
      "outputs": []
    },
    {
      "cell_type": "markdown",
      "metadata": {
        "id": "dCIXFZY-Bl0U"
      },
      "source": [
        "INNER JOIN\n"
      ]
    },
    {
      "cell_type": "code",
      "metadata": {
        "id": "mu8o-kXuBpQr"
      },
      "source": [
        "common = sports.intersection(romance)\n",
        "common ##inner join"
      ],
      "execution_count": null,
      "outputs": []
    },
    {
      "cell_type": "markdown",
      "metadata": {
        "id": "jydox7HeBriv"
      },
      "source": [
        "LEFT JOIN"
      ]
    },
    {
      "cell_type": "code",
      "metadata": {
        "id": "yzilNmh_BuMj"
      },
      "source": [
        "romance_ljoin = common.union(romance)\n",
        "romance_ljoin"
      ],
      "execution_count": null,
      "outputs": []
    },
    {
      "cell_type": "markdown",
      "metadata": {
        "id": "9mMMawj_B14u"
      },
      "source": [
        "RIGHT JOIN"
      ]
    },
    {
      "cell_type": "code",
      "metadata": {
        "id": "RPxFVOe8B3J4"
      },
      "source": [
        "sports_rjoin = common.union(sports)\n",
        "sports_rjoin"
      ],
      "execution_count": null,
      "outputs": []
    },
    {
      "cell_type": "markdown",
      "metadata": {
        "id": "C3MkpHvtB9W-"
      },
      "source": [
        "LEFT EXCLUSIVE JOIN"
      ]
    },
    {
      "cell_type": "code",
      "metadata": {
        "id": "ntPapfm6B-zU"
      },
      "source": [
        "romance_exljoin = romance.difference(sports)\n",
        "romance_exljoin"
      ],
      "execution_count": null,
      "outputs": []
    },
    {
      "cell_type": "markdown",
      "metadata": {
        "id": "uF7PXdFkCI05"
      },
      "source": [
        "RIGHT EXCLUSIVE JOIN"
      ]
    },
    {
      "cell_type": "code",
      "metadata": {
        "id": "gnC1ethbCK06"
      },
      "source": [
        "sports_exrjoin = sports.difference(romance)\n",
        "sports_exrjoin"
      ],
      "execution_count": null,
      "outputs": []
    },
    {
      "cell_type": "markdown",
      "metadata": {
        "id": "GgtpYIvcCRKD"
      },
      "source": [
        "FULL OUTER JOIN"
      ]
    },
    {
      "cell_type": "code",
      "metadata": {
        "id": "SGdx4OE2CSSy"
      },
      "source": [
        "foj = romance.union(sports)\n",
        "foj"
      ],
      "execution_count": null,
      "outputs": []
    },
    {
      "cell_type": "markdown",
      "metadata": {
        "id": "uRbxh8VSCYel"
      },
      "source": [
        "FULL OUTER EXCLUSIVE JOIN"
      ]
    },
    {
      "cell_type": "code",
      "metadata": {
        "colab": {
          "base_uri": "https://localhost:8080/",
          "height": 180
        },
        "id": "VorAK78dCbCH",
        "outputId": "f7008ab7-b37d-49b6-a354-959391b39123"
      },
      "source": [
        "full_xouter = (romance.difference(sports)).union(sports.difference(romance))\n",
        "full_xouter"
      ],
      "execution_count": 3,
      "outputs": [
        {
          "output_type": "error",
          "ename": "NameError",
          "evalue": "ignored",
          "traceback": [
            "\u001b[0;31m---------------------------------------------------------------------------\u001b[0m",
            "\u001b[0;31mNameError\u001b[0m                                 Traceback (most recent call last)",
            "\u001b[0;32m<ipython-input-3-421de70970b9>\u001b[0m in \u001b[0;36m<module>\u001b[0;34m()\u001b[0m\n\u001b[0;32m----> 1\u001b[0;31m \u001b[0mfull_xouter\u001b[0m \u001b[0;34m=\u001b[0m \u001b[0;34m(\u001b[0m\u001b[0mromance\u001b[0m\u001b[0;34m.\u001b[0m\u001b[0mdifference\u001b[0m\u001b[0;34m(\u001b[0m\u001b[0msports\u001b[0m\u001b[0;34m)\u001b[0m\u001b[0;34m)\u001b[0m\u001b[0;34m.\u001b[0m\u001b[0munion\u001b[0m\u001b[0;34m(\u001b[0m\u001b[0msports\u001b[0m\u001b[0;34m.\u001b[0m\u001b[0mdifference\u001b[0m\u001b[0;34m(\u001b[0m\u001b[0mromance\u001b[0m\u001b[0;34m)\u001b[0m\u001b[0;34m)\u001b[0m\u001b[0;34m\u001b[0m\u001b[0;34m\u001b[0m\u001b[0m\n\u001b[0m\u001b[1;32m      2\u001b[0m \u001b[0mfull_xouter\u001b[0m\u001b[0;34m\u001b[0m\u001b[0;34m\u001b[0m\u001b[0m\n",
            "\u001b[0;31mNameError\u001b[0m: name 'romance' is not defined"
          ]
        }
      ]
    }
  ]
}